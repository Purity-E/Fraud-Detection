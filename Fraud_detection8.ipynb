{
 "cells": [
  {
   "cell_type": "code",
   "execution_count": 1,
   "metadata": {},
   "outputs": [],
   "source": [
    "# loading packages\n",
    "import seaborn as sns\n",
    "import numpy as np\n",
    "import numpy.random as nr\n",
    "import math\n",
    "import pandas as pd\n",
    "import matplotlib.pyplot as plt\n",
    "from sklearn import preprocessing\n",
    "import sklearn.model_selection as ms\n",
    "from sklearn import linear_model\n",
    "import sklearn.metrics as sklm\n",
    "from tqdm.notebook import tqdm_notebook\n",
    "from lightgbm import LGBMClassifier\n",
    "from sklearn.metrics import f1_score\n",
    "from sklearn.model_selection import train_test_split\n",
    "import warnings\n",
    "warnings.filterwarnings('ignore')\n",
    "\n",
    "%matplotlib inline"
   ]
  },
  {
   "cell_type": "code",
   "execution_count": 2,
   "metadata": {},
   "outputs": [
    {
     "name": "stdout",
     "output_type": "stream",
     "text": [
      "(142403, 32)\n",
      "(142403,)\n"
     ]
    },
    {
     "data": {
      "text/html": [
       "<div>\n",
       "<style scoped>\n",
       "    .dataframe tbody tr th:only-of-type {\n",
       "        vertical-align: middle;\n",
       "    }\n",
       "\n",
       "    .dataframe tbody tr th {\n",
       "        vertical-align: top;\n",
       "    }\n",
       "\n",
       "    .dataframe thead th {\n",
       "        text-align: right;\n",
       "    }\n",
       "</style>\n",
       "<table border=\"1\" class=\"dataframe\">\n",
       "  <thead>\n",
       "    <tr style=\"text-align: right;\">\n",
       "      <th></th>\n",
       "      <th>id</th>\n",
       "      <th>Time</th>\n",
       "      <th>V1</th>\n",
       "      <th>V2</th>\n",
       "      <th>V3</th>\n",
       "      <th>V4</th>\n",
       "      <th>V5</th>\n",
       "      <th>V6</th>\n",
       "      <th>V7</th>\n",
       "      <th>V8</th>\n",
       "      <th>...</th>\n",
       "      <th>V21</th>\n",
       "      <th>V22</th>\n",
       "      <th>V23</th>\n",
       "      <th>V24</th>\n",
       "      <th>V25</th>\n",
       "      <th>V26</th>\n",
       "      <th>V27</th>\n",
       "      <th>V28</th>\n",
       "      <th>Amount</th>\n",
       "      <th>class</th>\n",
       "    </tr>\n",
       "  </thead>\n",
       "  <tbody>\n",
       "    <tr>\n",
       "      <th>0</th>\n",
       "      <td>1</td>\n",
       "      <td>68060.0</td>\n",
       "      <td>-4.565781</td>\n",
       "      <td>2.891870</td>\n",
       "      <td>-1.505909</td>\n",
       "      <td>-0.609598</td>\n",
       "      <td>-0.684404</td>\n",
       "      <td>-0.417628</td>\n",
       "      <td>0.093167</td>\n",
       "      <td>1.017300</td>\n",
       "      <td>...</td>\n",
       "      <td>-0.295050</td>\n",
       "      <td>-0.599263</td>\n",
       "      <td>-0.484981</td>\n",
       "      <td>-0.994767</td>\n",
       "      <td>1.120258</td>\n",
       "      <td>0.481573</td>\n",
       "      <td>0.055996</td>\n",
       "      <td>0.500978</td>\n",
       "      <td>43.92</td>\n",
       "      <td>0</td>\n",
       "    </tr>\n",
       "    <tr>\n",
       "      <th>1</th>\n",
       "      <td>2</td>\n",
       "      <td>88766.0</td>\n",
       "      <td>-1.932119</td>\n",
       "      <td>0.463690</td>\n",
       "      <td>-1.171450</td>\n",
       "      <td>-0.549980</td>\n",
       "      <td>1.710455</td>\n",
       "      <td>-1.030608</td>\n",
       "      <td>1.084965</td>\n",
       "      <td>-0.275486</td>\n",
       "      <td>...</td>\n",
       "      <td>-0.419797</td>\n",
       "      <td>-0.335424</td>\n",
       "      <td>0.548648</td>\n",
       "      <td>0.172697</td>\n",
       "      <td>-0.291240</td>\n",
       "      <td>0.275663</td>\n",
       "      <td>0.269275</td>\n",
       "      <td>0.667690</td>\n",
       "      <td>14.17</td>\n",
       "      <td>0</td>\n",
       "    </tr>\n",
       "    <tr>\n",
       "      <th>2</th>\n",
       "      <td>3</td>\n",
       "      <td>151883.0</td>\n",
       "      <td>-0.657832</td>\n",
       "      <td>0.753651</td>\n",
       "      <td>1.229142</td>\n",
       "      <td>-0.180336</td>\n",
       "      <td>-0.355564</td>\n",
       "      <td>-0.479811</td>\n",
       "      <td>-0.106428</td>\n",
       "      <td>0.409319</td>\n",
       "      <td>...</td>\n",
       "      <td>0.401123</td>\n",
       "      <td>1.250059</td>\n",
       "      <td>-0.253317</td>\n",
       "      <td>0.113877</td>\n",
       "      <td>-0.235661</td>\n",
       "      <td>-0.127742</td>\n",
       "      <td>0.096903</td>\n",
       "      <td>0.095731</td>\n",
       "      <td>0.80</td>\n",
       "      <td>0</td>\n",
       "    </tr>\n",
       "    <tr>\n",
       "      <th>3</th>\n",
       "      <td>4</td>\n",
       "      <td>159020.0</td>\n",
       "      <td>-1.207027</td>\n",
       "      <td>1.737476</td>\n",
       "      <td>-0.948094</td>\n",
       "      <td>-0.456881</td>\n",
       "      <td>0.686600</td>\n",
       "      <td>-0.665881</td>\n",
       "      <td>0.405398</td>\n",
       "      <td>0.575671</td>\n",
       "      <td>...</td>\n",
       "      <td>0.317289</td>\n",
       "      <td>0.646278</td>\n",
       "      <td>-0.506730</td>\n",
       "      <td>-1.117083</td>\n",
       "      <td>0.500530</td>\n",
       "      <td>0.035332</td>\n",
       "      <td>-0.401375</td>\n",
       "      <td>0.004993</td>\n",
       "      <td>3.91</td>\n",
       "      <td>0</td>\n",
       "    </tr>\n",
       "    <tr>\n",
       "      <th>4</th>\n",
       "      <td>5</td>\n",
       "      <td>86526.0</td>\n",
       "      <td>1.974552</td>\n",
       "      <td>0.176499</td>\n",
       "      <td>-2.080724</td>\n",
       "      <td>1.149523</td>\n",
       "      <td>0.845438</td>\n",
       "      <td>-0.908770</td>\n",
       "      <td>0.815385</td>\n",
       "      <td>-0.414188</td>\n",
       "      <td>...</td>\n",
       "      <td>0.144520</td>\n",
       "      <td>0.369164</td>\n",
       "      <td>-0.033627</td>\n",
       "      <td>0.600179</td>\n",
       "      <td>0.469150</td>\n",
       "      <td>-0.512841</td>\n",
       "      <td>-0.045404</td>\n",
       "      <td>-0.048915</td>\n",
       "      <td>59.70</td>\n",
       "      <td>0</td>\n",
       "    </tr>\n",
       "  </tbody>\n",
       "</table>\n",
       "<p>5 rows × 32 columns</p>\n",
       "</div>"
      ],
      "text/plain": [
       "   id      Time        V1        V2        V3        V4        V5        V6  \\\n",
       "0   1   68060.0 -4.565781  2.891870 -1.505909 -0.609598 -0.684404 -0.417628   \n",
       "1   2   88766.0 -1.932119  0.463690 -1.171450 -0.549980  1.710455 -1.030608   \n",
       "2   3  151883.0 -0.657832  0.753651  1.229142 -0.180336 -0.355564 -0.479811   \n",
       "3   4  159020.0 -1.207027  1.737476 -0.948094 -0.456881  0.686600 -0.665881   \n",
       "4   5   86526.0  1.974552  0.176499 -2.080724  1.149523  0.845438 -0.908770   \n",
       "\n",
       "         V7        V8  ...       V21       V22       V23       V24       V25  \\\n",
       "0  0.093167  1.017300  ... -0.295050 -0.599263 -0.484981 -0.994767  1.120258   \n",
       "1  1.084965 -0.275486  ... -0.419797 -0.335424  0.548648  0.172697 -0.291240   \n",
       "2 -0.106428  0.409319  ...  0.401123  1.250059 -0.253317  0.113877 -0.235661   \n",
       "3  0.405398  0.575671  ...  0.317289  0.646278 -0.506730 -1.117083  0.500530   \n",
       "4  0.815385 -0.414188  ...  0.144520  0.369164 -0.033627  0.600179  0.469150   \n",
       "\n",
       "        V26       V27       V28  Amount  class  \n",
       "0  0.481573  0.055996  0.500978   43.92      0  \n",
       "1  0.275663  0.269275  0.667690   14.17      0  \n",
       "2 -0.127742  0.096903  0.095731    0.80      0  \n",
       "3  0.035332 -0.401375  0.004993    3.91      0  \n",
       "4 -0.512841 -0.045404 -0.048915   59.70      0  \n",
       "\n",
       "[5 rows x 32 columns]"
      ]
     },
     "execution_count": 2,
     "metadata": {},
     "output_type": "execute_result"
    }
   ],
   "source": [
    "# loading train dataset\n",
    "train_df = pd.read_csv(r'D:\\Purity\\Hackathon\\DatasourceAI\\creditcard_fraud detection\\Train (9).csv')\n",
    "# train dataset shape\n",
    "print(train_df.shape)\n",
    "# checking for duplicates\n",
    "print(train_df.id.unique().shape)\n",
    "# train data set\n",
    "train_df.head()"
   ]
  },
  {
   "cell_type": "code",
   "execution_count": 3,
   "metadata": {},
   "outputs": [
    {
     "name": "stdout",
     "output_type": "stream",
     "text": [
      "(71202, 31)\n",
      "(71202,)\n"
     ]
    },
    {
     "data": {
      "text/html": [
       "<div>\n",
       "<style scoped>\n",
       "    .dataframe tbody tr th:only-of-type {\n",
       "        vertical-align: middle;\n",
       "    }\n",
       "\n",
       "    .dataframe tbody tr th {\n",
       "        vertical-align: top;\n",
       "    }\n",
       "\n",
       "    .dataframe thead th {\n",
       "        text-align: right;\n",
       "    }\n",
       "</style>\n",
       "<table border=\"1\" class=\"dataframe\">\n",
       "  <thead>\n",
       "    <tr style=\"text-align: right;\">\n",
       "      <th></th>\n",
       "      <th>id</th>\n",
       "      <th>Time</th>\n",
       "      <th>V1</th>\n",
       "      <th>V2</th>\n",
       "      <th>V3</th>\n",
       "      <th>V4</th>\n",
       "      <th>V5</th>\n",
       "      <th>V6</th>\n",
       "      <th>V7</th>\n",
       "      <th>V8</th>\n",
       "      <th>...</th>\n",
       "      <th>V20</th>\n",
       "      <th>V21</th>\n",
       "      <th>V22</th>\n",
       "      <th>V23</th>\n",
       "      <th>V24</th>\n",
       "      <th>V25</th>\n",
       "      <th>V26</th>\n",
       "      <th>V27</th>\n",
       "      <th>V28</th>\n",
       "      <th>Amount</th>\n",
       "    </tr>\n",
       "  </thead>\n",
       "  <tbody>\n",
       "    <tr>\n",
       "      <th>0</th>\n",
       "      <td>1</td>\n",
       "      <td>137258.0</td>\n",
       "      <td>1.358302</td>\n",
       "      <td>-1.182487</td>\n",
       "      <td>-2.493830</td>\n",
       "      <td>0.488218</td>\n",
       "      <td>0.258770</td>\n",
       "      <td>-0.304717</td>\n",
       "      <td>0.532905</td>\n",
       "      <td>-0.223698</td>\n",
       "      <td>...</td>\n",
       "      <td>0.620256</td>\n",
       "      <td>-0.080010</td>\n",
       "      <td>-0.870973</td>\n",
       "      <td>-0.207011</td>\n",
       "      <td>-0.134575</td>\n",
       "      <td>-0.086101</td>\n",
       "      <td>-0.113911</td>\n",
       "      <td>-0.085983</td>\n",
       "      <td>0.042750</td>\n",
       "      <td>387.50</td>\n",
       "    </tr>\n",
       "    <tr>\n",
       "      <th>1</th>\n",
       "      <td>2</td>\n",
       "      <td>147298.0</td>\n",
       "      <td>-1.304161</td>\n",
       "      <td>2.131949</td>\n",
       "      <td>-0.838896</td>\n",
       "      <td>3.155487</td>\n",
       "      <td>0.524203</td>\n",
       "      <td>-0.530462</td>\n",
       "      <td>0.545692</td>\n",
       "      <td>0.535868</td>\n",
       "      <td>...</td>\n",
       "      <td>-0.616521</td>\n",
       "      <td>0.506486</td>\n",
       "      <td>1.276061</td>\n",
       "      <td>-0.157185</td>\n",
       "      <td>-0.020511</td>\n",
       "      <td>-0.801740</td>\n",
       "      <td>0.070055</td>\n",
       "      <td>-1.008059</td>\n",
       "      <td>-0.402236</td>\n",
       "      <td>7.59</td>\n",
       "    </tr>\n",
       "    <tr>\n",
       "      <th>2</th>\n",
       "      <td>3</td>\n",
       "      <td>140451.0</td>\n",
       "      <td>-0.096751</td>\n",
       "      <td>1.162059</td>\n",
       "      <td>-0.534671</td>\n",
       "      <td>-0.604715</td>\n",
       "      <td>0.883683</td>\n",
       "      <td>-0.759341</td>\n",
       "      <td>0.934334</td>\n",
       "      <td>-0.057821</td>\n",
       "      <td>...</td>\n",
       "      <td>0.119217</td>\n",
       "      <td>-0.372934</td>\n",
       "      <td>-0.864456</td>\n",
       "      <td>0.111205</td>\n",
       "      <td>0.488024</td>\n",
       "      <td>-0.390410</td>\n",
       "      <td>0.125219</td>\n",
       "      <td>0.333239</td>\n",
       "      <td>0.142155</td>\n",
       "      <td>6.99</td>\n",
       "    </tr>\n",
       "    <tr>\n",
       "      <th>3</th>\n",
       "      <td>4</td>\n",
       "      <td>35801.0</td>\n",
       "      <td>-0.990465</td>\n",
       "      <td>0.759625</td>\n",
       "      <td>0.611074</td>\n",
       "      <td>0.769580</td>\n",
       "      <td>0.082927</td>\n",
       "      <td>0.011053</td>\n",
       "      <td>0.125135</td>\n",
       "      <td>0.733668</td>\n",
       "      <td>...</td>\n",
       "      <td>0.060028</td>\n",
       "      <td>0.236350</td>\n",
       "      <td>0.444033</td>\n",
       "      <td>-0.007983</td>\n",
       "      <td>-0.354241</td>\n",
       "      <td>-0.286025</td>\n",
       "      <td>-0.279814</td>\n",
       "      <td>0.281404</td>\n",
       "      <td>0.098528</td>\n",
       "      <td>50.00</td>\n",
       "    </tr>\n",
       "    <tr>\n",
       "      <th>4</th>\n",
       "      <td>5</td>\n",
       "      <td>131269.0</td>\n",
       "      <td>-0.920443</td>\n",
       "      <td>0.299100</td>\n",
       "      <td>-0.015312</td>\n",
       "      <td>-1.102493</td>\n",
       "      <td>1.855515</td>\n",
       "      <td>-1.945901</td>\n",
       "      <td>1.063730</td>\n",
       "      <td>-0.528711</td>\n",
       "      <td>...</td>\n",
       "      <td>-0.361849</td>\n",
       "      <td>0.209672</td>\n",
       "      <td>0.815771</td>\n",
       "      <td>-0.511291</td>\n",
       "      <td>-0.187107</td>\n",
       "      <td>-0.061418</td>\n",
       "      <td>-0.404762</td>\n",
       "      <td>-0.048434</td>\n",
       "      <td>-0.056745</td>\n",
       "      <td>15.73</td>\n",
       "    </tr>\n",
       "  </tbody>\n",
       "</table>\n",
       "<p>5 rows × 31 columns</p>\n",
       "</div>"
      ],
      "text/plain": [
       "   id      Time        V1        V2        V3        V4        V5        V6  \\\n",
       "0   1  137258.0  1.358302 -1.182487 -2.493830  0.488218  0.258770 -0.304717   \n",
       "1   2  147298.0 -1.304161  2.131949 -0.838896  3.155487  0.524203 -0.530462   \n",
       "2   3  140451.0 -0.096751  1.162059 -0.534671 -0.604715  0.883683 -0.759341   \n",
       "3   4   35801.0 -0.990465  0.759625  0.611074  0.769580  0.082927  0.011053   \n",
       "4   5  131269.0 -0.920443  0.299100 -0.015312 -1.102493  1.855515 -1.945901   \n",
       "\n",
       "         V7        V8  ...       V20       V21       V22       V23       V24  \\\n",
       "0  0.532905 -0.223698  ...  0.620256 -0.080010 -0.870973 -0.207011 -0.134575   \n",
       "1  0.545692  0.535868  ... -0.616521  0.506486  1.276061 -0.157185 -0.020511   \n",
       "2  0.934334 -0.057821  ...  0.119217 -0.372934 -0.864456  0.111205  0.488024   \n",
       "3  0.125135  0.733668  ...  0.060028  0.236350  0.444033 -0.007983 -0.354241   \n",
       "4  1.063730 -0.528711  ... -0.361849  0.209672  0.815771 -0.511291 -0.187107   \n",
       "\n",
       "        V25       V26       V27       V28  Amount  \n",
       "0 -0.086101 -0.113911 -0.085983  0.042750  387.50  \n",
       "1 -0.801740  0.070055 -1.008059 -0.402236    7.59  \n",
       "2 -0.390410  0.125219  0.333239  0.142155    6.99  \n",
       "3 -0.286025 -0.279814  0.281404  0.098528   50.00  \n",
       "4 -0.061418 -0.404762 -0.048434 -0.056745   15.73  \n",
       "\n",
       "[5 rows x 31 columns]"
      ]
     },
     "execution_count": 3,
     "metadata": {},
     "output_type": "execute_result"
    }
   ],
   "source": [
    "# loading test dataset\n",
    "test_df = pd.read_csv(r'D:\\Purity\\Hackathon\\DatasourceAI\\creditcard_fraud detection\\Test (9).csv')\n",
    "# test dataset shape\n",
    "print(test_df.shape)\n",
    "# checking duplicates\n",
    "print(test_df.id.unique().shape)\n",
    "# test dataset\n",
    "test_df.head()\n",
    "                      "
   ]
  },
  {
   "cell_type": "code",
   "execution_count": 4,
   "metadata": {},
   "outputs": [
    {
     "name": "stdout",
     "output_type": "stream",
     "text": [
      "(213605, 32)\n"
     ]
    },
    {
     "data": {
      "text/html": [
       "<div>\n",
       "<style scoped>\n",
       "    .dataframe tbody tr th:only-of-type {\n",
       "        vertical-align: middle;\n",
       "    }\n",
       "\n",
       "    .dataframe tbody tr th {\n",
       "        vertical-align: top;\n",
       "    }\n",
       "\n",
       "    .dataframe thead th {\n",
       "        text-align: right;\n",
       "    }\n",
       "</style>\n",
       "<table border=\"1\" class=\"dataframe\">\n",
       "  <thead>\n",
       "    <tr style=\"text-align: right;\">\n",
       "      <th></th>\n",
       "      <th>id</th>\n",
       "      <th>Time</th>\n",
       "      <th>V1</th>\n",
       "      <th>V2</th>\n",
       "      <th>V3</th>\n",
       "      <th>V4</th>\n",
       "      <th>V5</th>\n",
       "      <th>V6</th>\n",
       "      <th>V7</th>\n",
       "      <th>V8</th>\n",
       "      <th>...</th>\n",
       "      <th>V21</th>\n",
       "      <th>V22</th>\n",
       "      <th>V23</th>\n",
       "      <th>V24</th>\n",
       "      <th>V25</th>\n",
       "      <th>V26</th>\n",
       "      <th>V27</th>\n",
       "      <th>V28</th>\n",
       "      <th>Amount</th>\n",
       "      <th>class</th>\n",
       "    </tr>\n",
       "  </thead>\n",
       "  <tbody>\n",
       "    <tr>\n",
       "      <th>0</th>\n",
       "      <td>1</td>\n",
       "      <td>68060.0</td>\n",
       "      <td>-4.565781</td>\n",
       "      <td>2.891870</td>\n",
       "      <td>-1.505909</td>\n",
       "      <td>-0.609598</td>\n",
       "      <td>-0.684404</td>\n",
       "      <td>-0.417628</td>\n",
       "      <td>0.093167</td>\n",
       "      <td>1.017300</td>\n",
       "      <td>...</td>\n",
       "      <td>-0.295050</td>\n",
       "      <td>-0.599263</td>\n",
       "      <td>-0.484981</td>\n",
       "      <td>-0.994767</td>\n",
       "      <td>1.120258</td>\n",
       "      <td>0.481573</td>\n",
       "      <td>0.055996</td>\n",
       "      <td>0.500978</td>\n",
       "      <td>43.92</td>\n",
       "      <td>0.0</td>\n",
       "    </tr>\n",
       "    <tr>\n",
       "      <th>1</th>\n",
       "      <td>2</td>\n",
       "      <td>88766.0</td>\n",
       "      <td>-1.932119</td>\n",
       "      <td>0.463690</td>\n",
       "      <td>-1.171450</td>\n",
       "      <td>-0.549980</td>\n",
       "      <td>1.710455</td>\n",
       "      <td>-1.030608</td>\n",
       "      <td>1.084965</td>\n",
       "      <td>-0.275486</td>\n",
       "      <td>...</td>\n",
       "      <td>-0.419797</td>\n",
       "      <td>-0.335424</td>\n",
       "      <td>0.548648</td>\n",
       "      <td>0.172697</td>\n",
       "      <td>-0.291240</td>\n",
       "      <td>0.275663</td>\n",
       "      <td>0.269275</td>\n",
       "      <td>0.667690</td>\n",
       "      <td>14.17</td>\n",
       "      <td>0.0</td>\n",
       "    </tr>\n",
       "    <tr>\n",
       "      <th>2</th>\n",
       "      <td>3</td>\n",
       "      <td>151883.0</td>\n",
       "      <td>-0.657832</td>\n",
       "      <td>0.753651</td>\n",
       "      <td>1.229142</td>\n",
       "      <td>-0.180336</td>\n",
       "      <td>-0.355564</td>\n",
       "      <td>-0.479811</td>\n",
       "      <td>-0.106428</td>\n",
       "      <td>0.409319</td>\n",
       "      <td>...</td>\n",
       "      <td>0.401123</td>\n",
       "      <td>1.250059</td>\n",
       "      <td>-0.253317</td>\n",
       "      <td>0.113877</td>\n",
       "      <td>-0.235661</td>\n",
       "      <td>-0.127742</td>\n",
       "      <td>0.096903</td>\n",
       "      <td>0.095731</td>\n",
       "      <td>0.80</td>\n",
       "      <td>0.0</td>\n",
       "    </tr>\n",
       "    <tr>\n",
       "      <th>3</th>\n",
       "      <td>4</td>\n",
       "      <td>159020.0</td>\n",
       "      <td>-1.207027</td>\n",
       "      <td>1.737476</td>\n",
       "      <td>-0.948094</td>\n",
       "      <td>-0.456881</td>\n",
       "      <td>0.686600</td>\n",
       "      <td>-0.665881</td>\n",
       "      <td>0.405398</td>\n",
       "      <td>0.575671</td>\n",
       "      <td>...</td>\n",
       "      <td>0.317289</td>\n",
       "      <td>0.646278</td>\n",
       "      <td>-0.506730</td>\n",
       "      <td>-1.117083</td>\n",
       "      <td>0.500530</td>\n",
       "      <td>0.035332</td>\n",
       "      <td>-0.401375</td>\n",
       "      <td>0.004993</td>\n",
       "      <td>3.91</td>\n",
       "      <td>0.0</td>\n",
       "    </tr>\n",
       "    <tr>\n",
       "      <th>4</th>\n",
       "      <td>5</td>\n",
       "      <td>86526.0</td>\n",
       "      <td>1.974552</td>\n",
       "      <td>0.176499</td>\n",
       "      <td>-2.080724</td>\n",
       "      <td>1.149523</td>\n",
       "      <td>0.845438</td>\n",
       "      <td>-0.908770</td>\n",
       "      <td>0.815385</td>\n",
       "      <td>-0.414188</td>\n",
       "      <td>...</td>\n",
       "      <td>0.144520</td>\n",
       "      <td>0.369164</td>\n",
       "      <td>-0.033627</td>\n",
       "      <td>0.600179</td>\n",
       "      <td>0.469150</td>\n",
       "      <td>-0.512841</td>\n",
       "      <td>-0.045404</td>\n",
       "      <td>-0.048915</td>\n",
       "      <td>59.70</td>\n",
       "      <td>0.0</td>\n",
       "    </tr>\n",
       "  </tbody>\n",
       "</table>\n",
       "<p>5 rows × 32 columns</p>\n",
       "</div>"
      ],
      "text/plain": [
       "   id      Time        V1        V2        V3        V4        V5        V6  \\\n",
       "0   1   68060.0 -4.565781  2.891870 -1.505909 -0.609598 -0.684404 -0.417628   \n",
       "1   2   88766.0 -1.932119  0.463690 -1.171450 -0.549980  1.710455 -1.030608   \n",
       "2   3  151883.0 -0.657832  0.753651  1.229142 -0.180336 -0.355564 -0.479811   \n",
       "3   4  159020.0 -1.207027  1.737476 -0.948094 -0.456881  0.686600 -0.665881   \n",
       "4   5   86526.0  1.974552  0.176499 -2.080724  1.149523  0.845438 -0.908770   \n",
       "\n",
       "         V7        V8  ...       V21       V22       V23       V24       V25  \\\n",
       "0  0.093167  1.017300  ... -0.295050 -0.599263 -0.484981 -0.994767  1.120258   \n",
       "1  1.084965 -0.275486  ... -0.419797 -0.335424  0.548648  0.172697 -0.291240   \n",
       "2 -0.106428  0.409319  ...  0.401123  1.250059 -0.253317  0.113877 -0.235661   \n",
       "3  0.405398  0.575671  ...  0.317289  0.646278 -0.506730 -1.117083  0.500530   \n",
       "4  0.815385 -0.414188  ...  0.144520  0.369164 -0.033627  0.600179  0.469150   \n",
       "\n",
       "        V26       V27       V28  Amount  class  \n",
       "0  0.481573  0.055996  0.500978   43.92    0.0  \n",
       "1  0.275663  0.269275  0.667690   14.17    0.0  \n",
       "2 -0.127742  0.096903  0.095731    0.80    0.0  \n",
       "3  0.035332 -0.401375  0.004993    3.91    0.0  \n",
       "4 -0.512841 -0.045404 -0.048915   59.70    0.0  \n",
       "\n",
       "[5 rows x 32 columns]"
      ]
     },
     "execution_count": 4,
     "metadata": {},
     "output_type": "execute_result"
    }
   ],
   "source": [
    "# merging the train and test dataset for preprocessing\n",
    "# Combine train and test set\n",
    "ntrain = train_df.shape[0] # to be used to split train and test set from the combined dataframe\n",
    "\n",
    "df = pd.concat((train_df, test_df)).reset_index(drop=True)\n",
    "print(df.shape)\n",
    "df.head()"
   ]
  },
  {
   "cell_type": "code",
   "execution_count": 5,
   "metadata": {},
   "outputs": [
    {
     "data": {
      "text/plain": [
       "(213605, 31)"
      ]
     },
     "execution_count": 5,
     "metadata": {},
     "output_type": "execute_result"
    }
   ],
   "source": [
    "# dropping the id column\n",
    "df.drop(['id'], axis=1, inplace=True)\n",
    "df.shape"
   ]
  },
  {
   "cell_type": "code",
   "execution_count": 6,
   "metadata": {},
   "outputs": [
    {
     "data": {
      "text/plain": [
       "Time          0\n",
       "V1            0\n",
       "V2            0\n",
       "V3            0\n",
       "V4            0\n",
       "V5            0\n",
       "V6            0\n",
       "V7            0\n",
       "V8            0\n",
       "V9            0\n",
       "V10           0\n",
       "V11           0\n",
       "V12           0\n",
       "V13           0\n",
       "V14           0\n",
       "V15           0\n",
       "V16           0\n",
       "V17           0\n",
       "V18           0\n",
       "V19           0\n",
       "V20           0\n",
       "V21           0\n",
       "V22           0\n",
       "V23           0\n",
       "V24           0\n",
       "V25           0\n",
       "V26           0\n",
       "V27           0\n",
       "V28           0\n",
       "Amount        0\n",
       "class     71202\n",
       "dtype: int64"
      ]
     },
     "execution_count": 6,
     "metadata": {},
     "output_type": "execute_result"
    }
   ],
   "source": [
    "# checking for missing variables\n",
    "df.isnull().sum()"
   ]
  },
  {
   "cell_type": "code",
   "execution_count": 7,
   "metadata": {},
   "outputs": [
    {
     "data": {
      "text/html": [
       "<div>\n",
       "<style scoped>\n",
       "    .dataframe tbody tr th:only-of-type {\n",
       "        vertical-align: middle;\n",
       "    }\n",
       "\n",
       "    .dataframe tbody tr th {\n",
       "        vertical-align: top;\n",
       "    }\n",
       "\n",
       "    .dataframe thead th {\n",
       "        text-align: right;\n",
       "    }\n",
       "</style>\n",
       "<table border=\"1\" class=\"dataframe\">\n",
       "  <thead>\n",
       "    <tr style=\"text-align: right;\">\n",
       "      <th></th>\n",
       "      <th>Time</th>\n",
       "      <th>V1</th>\n",
       "      <th>V2</th>\n",
       "      <th>V3</th>\n",
       "      <th>V4</th>\n",
       "      <th>V5</th>\n",
       "      <th>V6</th>\n",
       "      <th>V7</th>\n",
       "      <th>V8</th>\n",
       "      <th>V9</th>\n",
       "      <th>...</th>\n",
       "      <th>V21</th>\n",
       "      <th>V22</th>\n",
       "      <th>V23</th>\n",
       "      <th>V24</th>\n",
       "      <th>V25</th>\n",
       "      <th>V26</th>\n",
       "      <th>V27</th>\n",
       "      <th>V28</th>\n",
       "      <th>Amount</th>\n",
       "      <th>class</th>\n",
       "    </tr>\n",
       "  </thead>\n",
       "  <tbody>\n",
       "    <tr>\n",
       "      <th>count</th>\n",
       "      <td>213605.000000</td>\n",
       "      <td>213605.000000</td>\n",
       "      <td>213605.000000</td>\n",
       "      <td>213605.000000</td>\n",
       "      <td>213605.000000</td>\n",
       "      <td>213605.000000</td>\n",
       "      <td>213605.000000</td>\n",
       "      <td>213605.000000</td>\n",
       "      <td>213605.000000</td>\n",
       "      <td>213605.000000</td>\n",
       "      <td>...</td>\n",
       "      <td>213605.000000</td>\n",
       "      <td>213605.000000</td>\n",
       "      <td>213605.000000</td>\n",
       "      <td>213605.000000</td>\n",
       "      <td>213605.000000</td>\n",
       "      <td>213605.000000</td>\n",
       "      <td>213605.000000</td>\n",
       "      <td>213605.000000</td>\n",
       "      <td>213605.000000</td>\n",
       "      <td>142403.000000</td>\n",
       "    </tr>\n",
       "    <tr>\n",
       "      <th>mean</th>\n",
       "      <td>94779.302886</td>\n",
       "      <td>-0.006022</td>\n",
       "      <td>-0.002251</td>\n",
       "      <td>0.002638</td>\n",
       "      <td>-0.000011</td>\n",
       "      <td>0.002465</td>\n",
       "      <td>0.000466</td>\n",
       "      <td>0.000161</td>\n",
       "      <td>-0.001033</td>\n",
       "      <td>0.000547</td>\n",
       "      <td>...</td>\n",
       "      <td>-0.000756</td>\n",
       "      <td>0.000743</td>\n",
       "      <td>-0.000275</td>\n",
       "      <td>0.000569</td>\n",
       "      <td>-0.000514</td>\n",
       "      <td>0.000913</td>\n",
       "      <td>-0.000293</td>\n",
       "      <td>0.000033</td>\n",
       "      <td>88.533809</td>\n",
       "      <td>0.001727</td>\n",
       "    </tr>\n",
       "    <tr>\n",
       "      <th>std</th>\n",
       "      <td>47475.691360</td>\n",
       "      <td>1.962654</td>\n",
       "      <td>1.657150</td>\n",
       "      <td>1.515406</td>\n",
       "      <td>1.415401</td>\n",
       "      <td>1.382175</td>\n",
       "      <td>1.335078</td>\n",
       "      <td>1.243220</td>\n",
       "      <td>1.205121</td>\n",
       "      <td>1.097322</td>\n",
       "      <td>...</td>\n",
       "      <td>0.744279</td>\n",
       "      <td>0.727235</td>\n",
       "      <td>0.633541</td>\n",
       "      <td>0.605321</td>\n",
       "      <td>0.522182</td>\n",
       "      <td>0.483176</td>\n",
       "      <td>0.406978</td>\n",
       "      <td>0.337415</td>\n",
       "      <td>254.718510</td>\n",
       "      <td>0.041527</td>\n",
       "    </tr>\n",
       "    <tr>\n",
       "      <th>min</th>\n",
       "      <td>0.000000</td>\n",
       "      <td>-56.407510</td>\n",
       "      <td>-72.715728</td>\n",
       "      <td>-48.325589</td>\n",
       "      <td>-5.683171</td>\n",
       "      <td>-113.743307</td>\n",
       "      <td>-26.160506</td>\n",
       "      <td>-43.557242</td>\n",
       "      <td>-73.216718</td>\n",
       "      <td>-13.434066</td>\n",
       "      <td>...</td>\n",
       "      <td>-34.830382</td>\n",
       "      <td>-10.933144</td>\n",
       "      <td>-44.807735</td>\n",
       "      <td>-2.836627</td>\n",
       "      <td>-10.295397</td>\n",
       "      <td>-2.604551</td>\n",
       "      <td>-9.895244</td>\n",
       "      <td>-15.430084</td>\n",
       "      <td>0.000000</td>\n",
       "      <td>0.000000</td>\n",
       "    </tr>\n",
       "    <tr>\n",
       "      <th>25%</th>\n",
       "      <td>54195.000000</td>\n",
       "      <td>-0.924661</td>\n",
       "      <td>-0.599367</td>\n",
       "      <td>-0.889277</td>\n",
       "      <td>-0.848486</td>\n",
       "      <td>-0.691985</td>\n",
       "      <td>-0.768017</td>\n",
       "      <td>-0.552933</td>\n",
       "      <td>-0.207656</td>\n",
       "      <td>-0.642968</td>\n",
       "      <td>...</td>\n",
       "      <td>-0.228827</td>\n",
       "      <td>-0.542334</td>\n",
       "      <td>-0.161641</td>\n",
       "      <td>-0.353719</td>\n",
       "      <td>-0.317989</td>\n",
       "      <td>-0.326641</td>\n",
       "      <td>-0.071048</td>\n",
       "      <td>-0.053231</td>\n",
       "      <td>5.580000</td>\n",
       "      <td>0.000000</td>\n",
       "    </tr>\n",
       "    <tr>\n",
       "      <th>50%</th>\n",
       "      <td>84652.000000</td>\n",
       "      <td>0.009933</td>\n",
       "      <td>0.066276</td>\n",
       "      <td>0.181660</td>\n",
       "      <td>-0.021651</td>\n",
       "      <td>-0.053750</td>\n",
       "      <td>-0.274294</td>\n",
       "      <td>0.041042</td>\n",
       "      <td>0.022854</td>\n",
       "      <td>-0.049750</td>\n",
       "      <td>...</td>\n",
       "      <td>-0.029269</td>\n",
       "      <td>0.006979</td>\n",
       "      <td>-0.010948</td>\n",
       "      <td>0.041602</td>\n",
       "      <td>0.015521</td>\n",
       "      <td>-0.051191</td>\n",
       "      <td>0.001253</td>\n",
       "      <td>0.011287</td>\n",
       "      <td>22.000000</td>\n",
       "      <td>0.000000</td>\n",
       "    </tr>\n",
       "    <tr>\n",
       "      <th>75%</th>\n",
       "      <td>139284.000000</td>\n",
       "      <td>1.313726</td>\n",
       "      <td>0.803282</td>\n",
       "      <td>1.029999</td>\n",
       "      <td>0.743638</td>\n",
       "      <td>0.615359</td>\n",
       "      <td>0.396827</td>\n",
       "      <td>0.570695</td>\n",
       "      <td>0.327412</td>\n",
       "      <td>0.597818</td>\n",
       "      <td>...</td>\n",
       "      <td>0.186827</td>\n",
       "      <td>0.529961</td>\n",
       "      <td>0.148002</td>\n",
       "      <td>0.440749</td>\n",
       "      <td>0.350898</td>\n",
       "      <td>0.242140</td>\n",
       "      <td>0.091364</td>\n",
       "      <td>0.078480</td>\n",
       "      <td>77.100000</td>\n",
       "      <td>0.000000</td>\n",
       "    </tr>\n",
       "    <tr>\n",
       "      <th>max</th>\n",
       "      <td>172792.000000</td>\n",
       "      <td>2.454930</td>\n",
       "      <td>22.057729</td>\n",
       "      <td>4.101716</td>\n",
       "      <td>16.875344</td>\n",
       "      <td>34.801666</td>\n",
       "      <td>73.301626</td>\n",
       "      <td>120.589494</td>\n",
       "      <td>20.007208</td>\n",
       "      <td>10.326133</td>\n",
       "      <td>...</td>\n",
       "      <td>27.202839</td>\n",
       "      <td>10.503090</td>\n",
       "      <td>22.528412</td>\n",
       "      <td>4.584549</td>\n",
       "      <td>7.519589</td>\n",
       "      <td>3.463246</td>\n",
       "      <td>31.612198</td>\n",
       "      <td>33.847808</td>\n",
       "      <td>25691.160000</td>\n",
       "      <td>1.000000</td>\n",
       "    </tr>\n",
       "  </tbody>\n",
       "</table>\n",
       "<p>8 rows × 31 columns</p>\n",
       "</div>"
      ],
      "text/plain": [
       "                Time             V1             V2             V3  \\\n",
       "count  213605.000000  213605.000000  213605.000000  213605.000000   \n",
       "mean    94779.302886      -0.006022      -0.002251       0.002638   \n",
       "std     47475.691360       1.962654       1.657150       1.515406   \n",
       "min         0.000000     -56.407510     -72.715728     -48.325589   \n",
       "25%     54195.000000      -0.924661      -0.599367      -0.889277   \n",
       "50%     84652.000000       0.009933       0.066276       0.181660   \n",
       "75%    139284.000000       1.313726       0.803282       1.029999   \n",
       "max    172792.000000       2.454930      22.057729       4.101716   \n",
       "\n",
       "                  V4             V5             V6             V7  \\\n",
       "count  213605.000000  213605.000000  213605.000000  213605.000000   \n",
       "mean       -0.000011       0.002465       0.000466       0.000161   \n",
       "std         1.415401       1.382175       1.335078       1.243220   \n",
       "min        -5.683171    -113.743307     -26.160506     -43.557242   \n",
       "25%        -0.848486      -0.691985      -0.768017      -0.552933   \n",
       "50%        -0.021651      -0.053750      -0.274294       0.041042   \n",
       "75%         0.743638       0.615359       0.396827       0.570695   \n",
       "max        16.875344      34.801666      73.301626     120.589494   \n",
       "\n",
       "                  V8             V9  ...            V21            V22  \\\n",
       "count  213605.000000  213605.000000  ...  213605.000000  213605.000000   \n",
       "mean       -0.001033       0.000547  ...      -0.000756       0.000743   \n",
       "std         1.205121       1.097322  ...       0.744279       0.727235   \n",
       "min       -73.216718     -13.434066  ...     -34.830382     -10.933144   \n",
       "25%        -0.207656      -0.642968  ...      -0.228827      -0.542334   \n",
       "50%         0.022854      -0.049750  ...      -0.029269       0.006979   \n",
       "75%         0.327412       0.597818  ...       0.186827       0.529961   \n",
       "max        20.007208      10.326133  ...      27.202839      10.503090   \n",
       "\n",
       "                 V23            V24            V25            V26  \\\n",
       "count  213605.000000  213605.000000  213605.000000  213605.000000   \n",
       "mean       -0.000275       0.000569      -0.000514       0.000913   \n",
       "std         0.633541       0.605321       0.522182       0.483176   \n",
       "min       -44.807735      -2.836627     -10.295397      -2.604551   \n",
       "25%        -0.161641      -0.353719      -0.317989      -0.326641   \n",
       "50%        -0.010948       0.041602       0.015521      -0.051191   \n",
       "75%         0.148002       0.440749       0.350898       0.242140   \n",
       "max        22.528412       4.584549       7.519589       3.463246   \n",
       "\n",
       "                 V27            V28         Amount          class  \n",
       "count  213605.000000  213605.000000  213605.000000  142403.000000  \n",
       "mean       -0.000293       0.000033      88.533809       0.001727  \n",
       "std         0.406978       0.337415     254.718510       0.041527  \n",
       "min        -9.895244     -15.430084       0.000000       0.000000  \n",
       "25%        -0.071048      -0.053231       5.580000       0.000000  \n",
       "50%         0.001253       0.011287      22.000000       0.000000  \n",
       "75%         0.091364       0.078480      77.100000       0.000000  \n",
       "max        31.612198      33.847808   25691.160000       1.000000  \n",
       "\n",
       "[8 rows x 31 columns]"
      ]
     },
     "execution_count": 7,
     "metadata": {},
     "output_type": "execute_result"
    }
   ],
   "source": [
    "# getting summary of the numerical columns\n",
    "df.describe()"
   ]
  },
  {
   "cell_type": "code",
   "execution_count": 8,
   "metadata": {},
   "outputs": [
    {
     "data": {
      "image/png": "[encoded data removed]",
      "text/plain": [
       "<Figure size 432x288 with 1 Axes>"
      ]
     },
     "metadata": {},
     "output_type": "display_data"
    },
    {
     "data": {
      "image/png": "[encoded data removed]",
      "text/plain": [
       "<Figure size 432x288 with 1 Axes>"
      ]
     },
     "metadata": {},
     "output_type": "display_data"
    },
    {
     "data": {
      "image/png": "[encoded data removed]",
      "text/plain": [
       "<Figure size 432x288 with 1 Axes>"
      ]
     },
     "metadata": {},
     "output_type": "display_data"
    },
    {
     "data": {
      "image/png": "[encoded data removed]",
      "text/plain": [
       "<Figure size 432x288 with 1 Axes>"
      ]
     },
     "metadata": {},
     "output_type": "display_data"
    },
    {
     "data": {
      "image/png": "[encoded data removed]",
      "text/plain": [
       "<Figure size 432x288 with 1 Axes>"
      ]
     },
     "metadata": {},
     "output_type": "display_data"
    },
    {
     "data": {
      "image/png": "[encoded data removed]",
      "text/plain": [
       "<Figure size 432x288 with 1 Axes>"
      ]
     },
     "metadata": {},
     "output_type": "display_data"
    },
    {
     "data": {
      "image/png": "[encoded data removed]",
      "text/plain": [
       "<Figure size 432x288 with 1 Axes>"
      ]
     },
     "metadata": {},
     "output_type": "display_data"
    },
    {
     "data": {
      "image/png": "[encoded data removed]",
      "text/plain": [
       "<Figure size 432x288 with 1 Axes>"
      ]
     },
     "metadata": {},
     "output_type": "display_data"
    },
    {
     "data": {
      "image/png": "[encoded data removed]",
      "text/plain": [
       "<Figure size 432x288 with 1 Axes>"
      ]
     },
     "metadata": {},
     "output_type": "display_data"
    },
    {
     "data": {
      "image/png": "[encoded data removed]",
      "text/plain": [
       "<Figure size 432x288 with 1 Axes>"
      ]
     },
     "metadata": {},
     "output_type": "display_data"
    },
    {
     "data": {
      "image/png": "[encoded data removed]",
      "text/plain": [
       "<Figure size 432x288 with 1 Axes>"
      ]
     },
     "metadata": {},
     "output_type": "display_data"
    },
    {
     "data": {
      "image/png": "[encoded data removed]",
      "text/plain": [
       "<Figure size 432x288 with 1 Axes>"
      ]
     },
     "metadata": {},
     "output_type": "display_data"
    },
    {
     "data": {
      "image/png": "[encoded data removed]",
      "text/plain": [
       "<Figure size 432x288 with 1 Axes>"
      ]
     },
     "metadata": {},
     "output_type": "display_data"
    },
    {
     "data": {
      "image/png": "[encoded data removed]",
      "text/plain": [
       "<Figure size 432x288 with 1 Axes>"
      ]
     },
     "metadata": {},
     "output_type": "display_data"
    },
    {
     "data": {
      "image/png": "[encoded data removed]",
      "text/plain": [
       "<Figure size 432x288 with 1 Axes>"
      ]
     },
     "metadata": {},
     "output_type": "display_data"
    },
    {
     "data": {
      "image/png": "[encoded data removed]",
      "text/plain": [
       "<Figure size 432x288 with 1 Axes>"
      ]
     },
     "metadata": {},
     "output_type": "display_data"
    },
    {
     "data": {
      "image/png": "[encoded data removed]",
      "text/plain": [
       "<Figure size 432x288 with 1 Axes>"
      ]
     },
     "metadata": {},
     "output_type": "display_data"
    },
    {
     "data": {
      "image/png": "[encoded data removed]",
      "text/plain": [
       "<Figure size 432x288 with 1 Axes>"
      ]
     },
     "metadata": {},
     "output_type": "display_data"
    },
    {
     "data": {
      "image/png": "[encoded data removed]",
      "text/plain": [
       "<Figure size 432x288 with 1 Axes>"
      ]
     },
     "metadata": {},
     "output_type": "display_data"
    },
    {
     "data": {
      "image/png": "[encoded data removed]",
      "text/plain": [
       "<Figure size 432x288 with 1 Axes>"
      ]
     },
     "metadata": {},
     "output_type": "display_data"
    },
    {
     "data": {
      "image/png": "[encoded data removed]",
      "text/plain": [
       "<Figure size 432x288 with 1 Axes>"
      ]
     },
     "metadata": {},
     "output_type": "display_data"
    },
    {
     "data": {
      "image/png": "[encoded data removed]",
      "text/plain": [
       "<Figure size 432x288 with 1 Axes>"
      ]
     },
     "metadata": {},
     "output_type": "display_data"
    },
    {
     "data": {
      "image/png": "[encoded data removed]",
      "text/plain": [
       "<Figure size 432x288 with 1 Axes>"
      ]
     },
     "metadata": {},
     "output_type": "display_data"
    },
    {
     "data": {
      "image/png": "[encoded data removed]",
      "text/plain": [
       "<Figure size 432x288 with 1 Axes>"
      ]
     },
     "metadata": {},
     "output_type": "display_data"
    },
    {
     "data": {
      "image/png": "[encoded data removed]",
      "text/plain": [
       "<Figure size 432x288 with 1 Axes>"
      ]
     },
     "metadata": {},
     "output_type": "display_data"
    },
    {
     "data": {
      "image/png": "[encoded data removed]",
      "text/plain": [
       "<Figure size 432x288 with 1 Axes>"
      ]
     },
     "metadata": {},
     "output_type": "display_data"
    },
    {
     "data": {
      "image/png": "[encoded data removed]",
      "text/plain": [
       "<Figure size 432x288 with 1 Axes>"
      ]
     },
     "metadata": {},
     "output_type": "display_data"
    },
    {
     "data": {
      "image/png": "[encoded data removed]",
      "text/plain": [
       "<Figure size 432x288 with 1 Axes>"
      ]
     },
     "metadata": {},
     "output_type": "display_data"
    },
    {
     "data": {
      "image/png": "[encoded data removed]",
      "text/plain": [
       "<Figure size 432x288 with 1 Axes>"
      ]
     },
     "metadata": {},
     "output_type": "display_data"
    },
    {
     "data": {
      "image/png": "[encoded data removed]",
      "text/plain": [
       "<Figure size 432x288 with 1 Axes>"
      ]
     },
     "metadata": {},
     "output_type": "display_data"
    }
   ],
   "source": [
    "# visualize class separation by numeric features\n",
    "def box_plot(df, cols, col_x = 'class'):\n",
    "    for col in cols:\n",
    "        sns.set_style(\"whitegrid\")\n",
    "        sns.boxplot(x=col_x, y=col, data=df)\n",
    "        plt.xlabel(col_x) # Set text for the x axis\n",
    "        plt.ylabel(col)# Set text for y axis\n",
    "        plt.show()\n",
    "num_cols = ['Time','V1','V2','V3','V4','V5','V6','V7','V8','V9','V10','V11','V12','V13','V14',\n",
    "            'V15','V16','V17','V18','V19','V20','V21','V22','V23','V24','V25',\n",
    "            'V26','V27','V28','Amount']\n",
    "box_plot(train_df, num_cols)"
   ]
  },
  {
   "cell_type": "code",
   "execution_count": 9,
   "metadata": {},
   "outputs": [
    {
     "data": {
      "text/plain": [
       "0    142157\n",
       "1       246\n",
       "Name: class, dtype: int64"
      ]
     },
     "execution_count": 9,
     "metadata": {},
     "output_type": "execute_result"
    }
   ],
   "source": [
    "# examining class imbalance\n",
    "train_df['class'].value_counts()"
   ]
  },
  {
   "cell_type": "code",
   "execution_count": 10,
   "metadata": {},
   "outputs": [
    {
     "data": {
      "text/plain": [
       "1    142157\n",
       "0    142157\n",
       "Name: class, dtype: int64"
      ]
     },
     "execution_count": 10,
     "metadata": {},
     "output_type": "execute_result"
    }
   ],
   "source": [
    "# oversampling the minority class\n",
    "from sklearn.utils import resample\n",
    "\n",
    "# separating minority and majority classes\n",
    "not_fraud = train_df[train_df['class']==0]\n",
    "fraud = train_df[train_df['class']==1]\n",
    "\n",
    "# upsampling minority\n",
    "fraud_upsampled = resample(fraud,\n",
    "                           replace=True, # sample with replacement\n",
    "                           n_samples=len(not_fraud), # match number in majority class\n",
    "                           random_state=27) # reproducible results\n",
    "\n",
    "# combine majority and upsampled minority\n",
    "upsampled = pd.concat([not_fraud, fraud_upsampled])\n",
    "\n",
    "# check new class counts\n",
    "upsampled['class'].value_counts()"
   ]
  },
  {
   "cell_type": "code",
   "execution_count": 11,
   "metadata": {},
   "outputs": [
    {
     "data": {
      "text/html": [
       "<div>\n",
       "<style scoped>\n",
       "    .dataframe tbody tr th:only-of-type {\n",
       "        vertical-align: middle;\n",
       "    }\n",
       "\n",
       "    .dataframe tbody tr th {\n",
       "        vertical-align: top;\n",
       "    }\n",
       "\n",
       "    .dataframe thead th {\n",
       "        text-align: right;\n",
       "    }\n",
       "</style>\n",
       "<table border=\"1\" class=\"dataframe\">\n",
       "  <thead>\n",
       "    <tr style=\"text-align: right;\">\n",
       "      <th></th>\n",
       "      <th>id</th>\n",
       "      <th>Time</th>\n",
       "      <th>V1</th>\n",
       "      <th>V2</th>\n",
       "      <th>V3</th>\n",
       "      <th>V4</th>\n",
       "      <th>V5</th>\n",
       "      <th>V6</th>\n",
       "      <th>V7</th>\n",
       "      <th>V8</th>\n",
       "      <th>...</th>\n",
       "      <th>V21</th>\n",
       "      <th>V22</th>\n",
       "      <th>V23</th>\n",
       "      <th>V24</th>\n",
       "      <th>V25</th>\n",
       "      <th>V26</th>\n",
       "      <th>V27</th>\n",
       "      <th>V28</th>\n",
       "      <th>Amount</th>\n",
       "      <th>class</th>\n",
       "    </tr>\n",
       "  </thead>\n",
       "  <tbody>\n",
       "    <tr>\n",
       "      <th>0</th>\n",
       "      <td>1</td>\n",
       "      <td>68060.0</td>\n",
       "      <td>-4.565781</td>\n",
       "      <td>2.891870</td>\n",
       "      <td>-1.505909</td>\n",
       "      <td>-0.609598</td>\n",
       "      <td>-0.684404</td>\n",
       "      <td>-0.417628</td>\n",
       "      <td>0.093167</td>\n",
       "      <td>1.017300</td>\n",
       "      <td>...</td>\n",
       "      <td>-0.295050</td>\n",
       "      <td>-0.599263</td>\n",
       "      <td>-0.484981</td>\n",
       "      <td>-0.994767</td>\n",
       "      <td>1.120258</td>\n",
       "      <td>0.481573</td>\n",
       "      <td>0.055996</td>\n",
       "      <td>0.500978</td>\n",
       "      <td>43.92</td>\n",
       "      <td>0</td>\n",
       "    </tr>\n",
       "    <tr>\n",
       "      <th>1</th>\n",
       "      <td>2</td>\n",
       "      <td>88766.0</td>\n",
       "      <td>-1.932119</td>\n",
       "      <td>0.463690</td>\n",
       "      <td>-1.171450</td>\n",
       "      <td>-0.549980</td>\n",
       "      <td>1.710455</td>\n",
       "      <td>-1.030608</td>\n",
       "      <td>1.084965</td>\n",
       "      <td>-0.275486</td>\n",
       "      <td>...</td>\n",
       "      <td>-0.419797</td>\n",
       "      <td>-0.335424</td>\n",
       "      <td>0.548648</td>\n",
       "      <td>0.172697</td>\n",
       "      <td>-0.291240</td>\n",
       "      <td>0.275663</td>\n",
       "      <td>0.269275</td>\n",
       "      <td>0.667690</td>\n",
       "      <td>14.17</td>\n",
       "      <td>0</td>\n",
       "    </tr>\n",
       "    <tr>\n",
       "      <th>2</th>\n",
       "      <td>3</td>\n",
       "      <td>151883.0</td>\n",
       "      <td>-0.657832</td>\n",
       "      <td>0.753651</td>\n",
       "      <td>1.229142</td>\n",
       "      <td>-0.180336</td>\n",
       "      <td>-0.355564</td>\n",
       "      <td>-0.479811</td>\n",
       "      <td>-0.106428</td>\n",
       "      <td>0.409319</td>\n",
       "      <td>...</td>\n",
       "      <td>0.401123</td>\n",
       "      <td>1.250059</td>\n",
       "      <td>-0.253317</td>\n",
       "      <td>0.113877</td>\n",
       "      <td>-0.235661</td>\n",
       "      <td>-0.127742</td>\n",
       "      <td>0.096903</td>\n",
       "      <td>0.095731</td>\n",
       "      <td>0.80</td>\n",
       "      <td>0</td>\n",
       "    </tr>\n",
       "    <tr>\n",
       "      <th>3</th>\n",
       "      <td>4</td>\n",
       "      <td>159020.0</td>\n",
       "      <td>-1.207027</td>\n",
       "      <td>1.737476</td>\n",
       "      <td>-0.948094</td>\n",
       "      <td>-0.456881</td>\n",
       "      <td>0.686600</td>\n",
       "      <td>-0.665881</td>\n",
       "      <td>0.405398</td>\n",
       "      <td>0.575671</td>\n",
       "      <td>...</td>\n",
       "      <td>0.317289</td>\n",
       "      <td>0.646278</td>\n",
       "      <td>-0.506730</td>\n",
       "      <td>-1.117083</td>\n",
       "      <td>0.500530</td>\n",
       "      <td>0.035332</td>\n",
       "      <td>-0.401375</td>\n",
       "      <td>0.004993</td>\n",
       "      <td>3.91</td>\n",
       "      <td>0</td>\n",
       "    </tr>\n",
       "    <tr>\n",
       "      <th>4</th>\n",
       "      <td>5</td>\n",
       "      <td>86526.0</td>\n",
       "      <td>1.974552</td>\n",
       "      <td>0.176499</td>\n",
       "      <td>-2.080724</td>\n",
       "      <td>1.149523</td>\n",
       "      <td>0.845438</td>\n",
       "      <td>-0.908770</td>\n",
       "      <td>0.815385</td>\n",
       "      <td>-0.414188</td>\n",
       "      <td>...</td>\n",
       "      <td>0.144520</td>\n",
       "      <td>0.369164</td>\n",
       "      <td>-0.033627</td>\n",
       "      <td>0.600179</td>\n",
       "      <td>0.469150</td>\n",
       "      <td>-0.512841</td>\n",
       "      <td>-0.045404</td>\n",
       "      <td>-0.048915</td>\n",
       "      <td>59.70</td>\n",
       "      <td>0</td>\n",
       "    </tr>\n",
       "  </tbody>\n",
       "</table>\n",
       "<p>5 rows × 32 columns</p>\n",
       "</div>"
      ],
      "text/plain": [
       "   id      Time        V1        V2        V3        V4        V5        V6  \\\n",
       "0   1   68060.0 -4.565781  2.891870 -1.505909 -0.609598 -0.684404 -0.417628   \n",
       "1   2   88766.0 -1.932119  0.463690 -1.171450 -0.549980  1.710455 -1.030608   \n",
       "2   3  151883.0 -0.657832  0.753651  1.229142 -0.180336 -0.355564 -0.479811   \n",
       "3   4  159020.0 -1.207027  1.737476 -0.948094 -0.456881  0.686600 -0.665881   \n",
       "4   5   86526.0  1.974552  0.176499 -2.080724  1.149523  0.845438 -0.908770   \n",
       "\n",
       "         V7        V8  ...       V21       V22       V23       V24       V25  \\\n",
       "0  0.093167  1.017300  ... -0.295050 -0.599263 -0.484981 -0.994767  1.120258   \n",
       "1  1.084965 -0.275486  ... -0.419797 -0.335424  0.548648  0.172697 -0.291240   \n",
       "2 -0.106428  0.409319  ...  0.401123  1.250059 -0.253317  0.113877 -0.235661   \n",
       "3  0.405398  0.575671  ...  0.317289  0.646278 -0.506730 -1.117083  0.500530   \n",
       "4  0.815385 -0.414188  ...  0.144520  0.369164 -0.033627  0.600179  0.469150   \n",
       "\n",
       "        V26       V27       V28  Amount  class  \n",
       "0  0.481573  0.055996  0.500978   43.92      0  \n",
       "1  0.275663  0.269275  0.667690   14.17      0  \n",
       "2 -0.127742  0.096903  0.095731    0.80      0  \n",
       "3  0.035332 -0.401375  0.004993    3.91      0  \n",
       "4 -0.512841 -0.045404 -0.048915   59.70      0  \n",
       "\n",
       "[5 rows x 32 columns]"
      ]
     },
     "execution_count": 11,
     "metadata": {},
     "output_type": "execute_result"
    }
   ],
   "source": [
    "upsampled.head()"
   ]
  },
  {
   "cell_type": "code",
   "execution_count": 14,
   "metadata": {},
   "outputs": [],
   "source": [
    "#getting x and y to used in training\n",
    "X = upsampled[['V1', 'V2', 'V3', 'V4', 'V9', 'V10', 'V11', 'V12', \n",
    "                            'V14', 'V16', 'V17', 'V18', 'V19']]\n",
    "y = upsampled[['class']]"
   ]
  },
  {
   "cell_type": "code",
   "execution_count": 15,
   "metadata": {},
   "outputs": [
    {
     "name": "stdout",
     "output_type": "stream",
     "text": [
      "F1 score on the X_test is: 0.9998361269781815\n"
     ]
    }
   ],
   "source": [
    "# Split data into train and test sets\n",
    "X_train, X_test, y_train, y_test = train_test_split(X,y,test_size=0.3, random_state=42)\n",
    "\n",
    "# Train model\n",
    "model = LGBMClassifier()\n",
    "model.fit(X_train, y_train)\n",
    "\n",
    "# Make predictions\n",
    "y_pred = model.predict(X_test)\n",
    "\n",
    "# Check the f1 score of the model\n",
    "print(f'F1 score on the X_test is: {f1_score(y_test, y_pred)}')"
   ]
  },
  {
   "cell_type": "code",
   "execution_count": 16,
   "metadata": {},
   "outputs": [
    {
     "name": "stdout",
     "output_type": "stream",
     "text": [
      "LightGBM Model accuracy score: 0.9998358637669266\n"
     ]
    }
   ],
   "source": [
    "# view accuracy\n",
    "from sklearn.metrics import accuracy_score\n",
    "accuracy=accuracy_score(y_pred, y_test)\n",
    "print(f'LightGBM Model accuracy score: {accuracy_score(y_test, y_pred)}')"
   ]
  },
  {
   "cell_type": "code",
   "execution_count": 17,
   "metadata": {},
   "outputs": [
    {
     "name": "stdout",
     "output_type": "stream",
     "text": [
      "LightGBM Model accuracy score: 1.0\n"
     ]
    }
   ],
   "source": [
    "#getting train accuracy\n",
    "y_pred_train = model.predict(X_train)\n",
    "print(f'LightGBM Model accuracy score: {accuracy_score(y_train, y_pred_train)}')"
   ]
  },
  {
   "cell_type": "code",
   "execution_count": 19,
   "metadata": {},
   "outputs": [],
   "source": [
    "# Making prediction on the test set\n",
    "test = test_df[['V1', 'V2', 'V3', 'V4', 'V9', 'V10', 'V11', 'V12', \n",
    "                            'V14', 'V16', 'V17', 'V18', 'V19']]\n",
    "scores = model.predict(test)"
   ]
  },
  {
   "cell_type": "code",
   "execution_count": 20,
   "metadata": {},
   "outputs": [
    {
     "data": {
      "text/html": [
       "<div>\n",
       "<style scoped>\n",
       "    .dataframe tbody tr th:only-of-type {\n",
       "        vertical-align: middle;\n",
       "    }\n",
       "\n",
       "    .dataframe tbody tr th {\n",
       "        vertical-align: top;\n",
       "    }\n",
       "\n",
       "    .dataframe thead th {\n",
       "        text-align: right;\n",
       "    }\n",
       "</style>\n",
       "<table border=\"1\" class=\"dataframe\">\n",
       "  <thead>\n",
       "    <tr style=\"text-align: right;\">\n",
       "      <th></th>\n",
       "      <th>class</th>\n",
       "    </tr>\n",
       "  </thead>\n",
       "  <tbody>\n",
       "    <tr>\n",
       "      <th>0</th>\n",
       "      <td>0</td>\n",
       "    </tr>\n",
       "    <tr>\n",
       "      <th>1</th>\n",
       "      <td>0</td>\n",
       "    </tr>\n",
       "    <tr>\n",
       "      <th>2</th>\n",
       "      <td>0</td>\n",
       "    </tr>\n",
       "    <tr>\n",
       "      <th>3</th>\n",
       "      <td>0</td>\n",
       "    </tr>\n",
       "    <tr>\n",
       "      <th>4</th>\n",
       "      <td>0</td>\n",
       "    </tr>\n",
       "  </tbody>\n",
       "</table>\n",
       "</div>"
      ],
      "text/plain": [
       "   class\n",
       "0      0\n",
       "1      0\n",
       "2      0\n",
       "3      0\n",
       "4      0"
      ]
     },
     "execution_count": 20,
     "metadata": {},
     "output_type": "execute_result"
    }
   ],
   "source": [
    "# creating dataframe of the scores\n",
    "scores_df = pd.DataFrame(scores)\n",
    "scores_df.columns = ['class']\n",
    "scores_df.head()"
   ]
  },
  {
   "cell_type": "code",
   "execution_count": 21,
   "metadata": {},
   "outputs": [
    {
     "data": {
      "text/html": [
       "<div>\n",
       "<style scoped>\n",
       "    .dataframe tbody tr th:only-of-type {\n",
       "        vertical-align: middle;\n",
       "    }\n",
       "\n",
       "    .dataframe tbody tr th {\n",
       "        vertical-align: top;\n",
       "    }\n",
       "\n",
       "    .dataframe thead th {\n",
       "        text-align: right;\n",
       "    }\n",
       "</style>\n",
       "<table border=\"1\" class=\"dataframe\">\n",
       "  <thead>\n",
       "    <tr style=\"text-align: right;\">\n",
       "      <th></th>\n",
       "      <th>id</th>\n",
       "      <th>class</th>\n",
       "    </tr>\n",
       "  </thead>\n",
       "  <tbody>\n",
       "    <tr>\n",
       "      <th>0</th>\n",
       "      <td>1</td>\n",
       "      <td>0</td>\n",
       "    </tr>\n",
       "    <tr>\n",
       "      <th>1</th>\n",
       "      <td>2</td>\n",
       "      <td>0</td>\n",
       "    </tr>\n",
       "    <tr>\n",
       "      <th>2</th>\n",
       "      <td>3</td>\n",
       "      <td>0</td>\n",
       "    </tr>\n",
       "    <tr>\n",
       "      <th>3</th>\n",
       "      <td>4</td>\n",
       "      <td>0</td>\n",
       "    </tr>\n",
       "    <tr>\n",
       "      <th>4</th>\n",
       "      <td>5</td>\n",
       "      <td>0</td>\n",
       "    </tr>\n",
       "  </tbody>\n",
       "</table>\n",
       "</div>"
      ],
      "text/plain": [
       "   id  class\n",
       "0   1      0\n",
       "1   2      0\n",
       "2   3      0\n",
       "3   4      0\n",
       "4   5      0"
      ]
     },
     "execution_count": 21,
     "metadata": {},
     "output_type": "execute_result"
    }
   ],
   "source": [
    "# joining id column and scores\n",
    "fraud_result = pd.concat([test_df[['id']], scores_df], axis=1)\n",
    "fraud_result.head()"
   ]
  },
  {
   "cell_type": "code",
   "execution_count": 22,
   "metadata": {},
   "outputs": [
    {
     "data": {
      "text/plain": [
       "0    71080\n",
       "1      122\n",
       "Name: class, dtype: int64"
      ]
     },
     "execution_count": 22,
     "metadata": {},
     "output_type": "execute_result"
    }
   ],
   "source": [
    "fraud_result['class'].value_counts()"
   ]
  },
  {
   "cell_type": "code",
   "execution_count": 23,
   "metadata": {},
   "outputs": [],
   "source": [
    "#creating a csv file\n",
    "fraud_result.to_csv('fraud_result8.csv', index = False)"
   ]
  },
  {
   "cell_type": "code",
   "execution_count": null,
   "metadata": {},
   "outputs": [],
   "source": []
  }
 ],
 "metadata": {
  "kernelspec": {
   "display_name": "Python 3",
   "language": "python",
   "name": "python3"
  },
  "language_info": {
   "codemirror_mode": {
    "name": "ipython",
    "version": 3
   },
   "file_extension": ".py",
   "mimetype": "text/x-python",
   "name": "python",
   "nbconvert_exporter": "python",
   "pygments_lexer": "ipython3",
   "version": "3.8.5"
  }
 },
 "nbformat": 4,
 "nbformat_minor": 4
}
